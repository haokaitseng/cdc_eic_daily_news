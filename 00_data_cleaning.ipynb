{
 "cells": [
  {
   "cell_type": "code",
   "execution_count": null,
   "id": "0e19f1ee",
   "metadata": {},
   "outputs": [],
   "source": [
    "import pandas as pd\n",
    "\n",
    "df_raw = pd.read_csv('TCDCIntlEpidAll.csv')\n",
    "\n",
    "df_raw[\"date\"] = pd.to_datetime(df_raw['effective']).dt.date\n",
    "\n",
    "df_raw['date'] = pd.to_datetime(df_raw['date'], errors='coerce')\n",
    "\n",
    "df_raw = df_raw.drop(\n",
    "    [\"sent\", \"effective\", \"source\", \"expires\", \"senderName\", \"instruction\", \"web\", \"alert_title\", \"severity_level\", \"circle\"], axis=1)\n",
    "\n",
    "\n",
    "print(df_raw.head(2))\n",
    "\n",
    "\n",
    "import matplotlib.pyplot as plt\n",
    "\n",
    "df_counts = df_raw.groupby([df_raw['date'].dt.to_period('M'), 'alert_disease']).size().reset_index(name='count')\n",
    "\n",
    "# 🟢 Step 3: Convert Period to Timestamp for plotting\n",
    "df_counts['date'] = df_counts['date'].dt.to_timestamp()\n",
    "\n",
    "# 🟢 Step 4: Pivot to get diseases as columns and fill missing with 0\n",
    "df_pivot = df_counts.pivot(index='date', columns='alert_disease', values='count').fillna(0)\n",
    "\n",
    "# 🟢 Step 5: Normalize rows to get percentage\n",
    "df_percent = df_pivot.div(df_pivot.sum(axis=1), axis=0) * 100\n",
    "\n",
    "# 🟢 Step 6: Plot\n",
    "plt.figure(figsize=(12, 6))\n",
    "df_percent.plot(kind='area', stacked=True, figsize=(14, 7), colormap='tab20')\n",
    "plt.ylabel('Percentage of Disease Notifications (%)')\n",
    "plt.title('Monthly Proportion of Diseases Notified Over Time')\n",
    "plt.xlabel('Date')\n",
    "plt.legend(loc='upper left', bbox_to_anchor=(1, 1))\n",
    "plt.tight_layout()\n",
    "plt.show()"
   ]
  }
 ],
 "metadata": {
  "language_info": {
   "name": "python"
  }
 },
 "nbformat": 4,
 "nbformat_minor": 5
}
